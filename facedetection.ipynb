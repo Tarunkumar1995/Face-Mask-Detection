{
  "nbformat": 4,
  "nbformat_minor": 0,
  "metadata": {
    "colab": {
      "name": "facedetection.ipynb",
      "provenance": [],
      "toc_visible": true,
      "authorship_tag": "ABX9TyNGEJLXIl7gFtbZvDolOFPT",
      "include_colab_link": true
    },
    "kernelspec": {
      "name": "python3",
      "display_name": "Python 3"
    }
  },
  "cells": [
    {
      "cell_type": "markdown",
      "metadata": {
        "id": "view-in-github",
        "colab_type": "text"
      },
      "source": [
        "<a href=\"https://colab.research.google.com/github/Tarunkumar1995/Face-Mask-Detection/blob/master/facedetection.ipynb\" target=\"_parent\"><img src=\"https://colab.research.google.com/assets/colab-badge.svg\" alt=\"Open In Colab\"/></a>"
      ]
    },
    {
      "cell_type": "code",
      "metadata": {
        "id": "E64jCWfQpe_l",
        "colab_type": "code",
        "colab": {
          "base_uri": "https://localhost:8080/",
          "height": 122
        },
        "outputId": "8bf8c8b6-83fc-4115-ac84-3ad3b4eb0a87"
      },
      "source": [
        "from google.colab import drive\n",
        "drive.mount('drive')"
      ],
      "execution_count": null,
      "outputs": [
        {
          "output_type": "stream",
          "text": [
            "Go to this URL in a browser: https://accounts.google.com/o/oauth2/auth?client_id=947318989803-6bn6qk8qdgf4n4g3pfee6491hc0brc4i.apps.googleusercontent.com&redirect_uri=urn%3aietf%3awg%3aoauth%3a2.0%3aoob&scope=email%20https%3a%2f%2fwww.googleapis.com%2fauth%2fdocs.test%20https%3a%2f%2fwww.googleapis.com%2fauth%2fdrive%20https%3a%2f%2fwww.googleapis.com%2fauth%2fdrive.photos.readonly%20https%3a%2f%2fwww.googleapis.com%2fauth%2fpeopleapi.readonly&response_type=code\n",
            "\n",
            "Enter your authorization code:\n",
            "··········\n",
            "Mounted at drive\n"
          ],
          "name": "stdout"
        }
      ]
    },
    {
      "cell_type": "code",
      "metadata": {
        "id": "Ktkx1-VGpoZd",
        "colab_type": "code",
        "colab": {}
      },
      "source": [
        "%tensorflow_version 2.x"
      ],
      "execution_count": null,
      "outputs": []
    },
    {
      "cell_type": "code",
      "metadata": {
        "id": "-TJ016UkVpG2",
        "colab_type": "code",
        "colab": {}
      },
      "source": [
        "from tensorflow.keras.models import load_model\n",
        "import cv2\n",
        "import numpy as np\n",
        "from google.colab.patches import cv2_imshow"
      ],
      "execution_count": null,
      "outputs": []
    },
    {
      "cell_type": "code",
      "metadata": {
        "id": "aSWc22BKaW6K",
        "colab_type": "code",
        "colab": {}
      },
      "source": [
        "model=load_model('/content/drive/My Drive/TensorFlow/facemaskdetection/mask_detector.model')  #loading the model\n",
        "face_cslr=cv2.CascadeClassifier('haarcascade_frontalface_alt.xml')  \n",
        "source=cv2.VideoCapture(0)\n",
        "labels_dict={0:'Mask',1:'No Mask'}\n",
        "color_dict={0:(0,255,0),1:(0,0,255)}\n",
        "while True:\n",
        "  ret,img=source.read()\n",
        "  \n",
        "  gray=cv2.cvtColor(img,cv2.COLOR_BGR2GRAY)\n",
        "  faces=face_cslr.detectMultiScale(gray,1.3,5)  #1.3 is rescaling factor i.e it reduces the image size based on image scale,\n",
        "  #detect Mutliscale: it detects objects of different sizes of input images and the detected objects are returned in list of rectangles\n",
        "\n",
        "  for x,y,w,h in faces:\n",
        "    face_img=gray[y:y+h,x:x+w] #capturing the face\n",
        "    img_resize=cv2.resize(face_img,(100,100)) #resizing it\n",
        "    normalization=img_resize/255.0  #normalizing the image\n",
        "    reshaped=np.reshape(normalization,(1,100,100,1))  #expanding the dimensions\n",
        "    result=model.predict(reshaped)\n",
        "\n",
        "    label=np.argmax(result,axis=1)[0]\n",
        "    \n",
        "    cv2.rectangle(img,(x,y),(x+w,y+h),color_dict[label],2)\n",
        "    cv2.rectangle(img,(x,y-40),(x+w,y),color_dict[label],-1)\n",
        "    cv2.putText(img,labels_dict[label],(x,y-10),cv2.FONT_HERSHEY_COMPLEX,0.8,(255,255,255),2)\n",
        "\n",
        "  cv2_imshow(img)\n",
        "  key=cv2.waitKey(1)\n",
        "\n",
        "  if key==ord('q'):\n",
        "    break\n",
        "\n",
        "cv2.destroyAllWindows()\n",
        "source.release()\n",
        "\n",
        "\n",
        "\n",
        "\n",
        "\n"
      ],
      "execution_count": null,
      "outputs": []
    },
    {
      "cell_type": "code",
      "metadata": {
        "id": "Obsyxm4mvgJV",
        "colab_type": "code",
        "colab": {}
      },
      "source": [
        ""
      ],
      "execution_count": null,
      "outputs": []
    }
  ]
}